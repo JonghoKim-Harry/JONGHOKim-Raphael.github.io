{
  "nbformat": 4,
  "nbformat_minor": 0,
  "metadata": {
    "colab": {
      "name": "coref-testrun.ipynb",
      "provenance": [],
      "authorship_tag": "ABX9TyPZzP0y4Cj7Ae591faxzDpw",
      "include_colab_link": true
    },
    "kernelspec": {
      "name": "python3",
      "display_name": "Python 3"
    },
    "language_info": {
      "name": "python"
    }
  },
  "cells": [
    {
      "cell_type": "markdown",
      "metadata": {
        "id": "view-in-github",
        "colab_type": "text"
      },
      "source": [
        "<a href=\"https://colab.research.google.com/github/JONGHOKim-Raphael/JONGHOKim-Raphael.github.io/blob/master/coref_testrun.ipynb\" target=\"_parent\"><img src=\"https://colab.research.google.com/assets/colab-badge.svg\" alt=\"Open In Colab\"/></a>"
      ]
    },
    {
      "cell_type": "code",
      "execution_count": 2,
      "metadata": {
        "colab": {
          "base_uri": "https://localhost:8080/"
        },
        "id": "KYQsammKRiqg",
        "outputId": "f281f375-c1c1-495f-d94c-3c6ee763eace"
      },
      "outputs": [
        {
          "output_type": "stream",
          "name": "stdout",
          "text": [
            "Cloning into 'coref'...\n",
            "remote: Enumerating objects: 737, done.\u001b[K\n",
            "remote: Counting objects: 100% (12/12), done.\u001b[K\n",
            "remote: Compressing objects: 100% (12/12), done.\u001b[K\n",
            "remote: Total 737 (delta 6), reused 0 (delta 0), pack-reused 725\u001b[K\n",
            "Receiving objects: 100% (737/737), 4.18 MiB | 19.43 MiB/s, done.\n",
            "Resolving deltas: 100% (443/443), done.\n"
          ]
        }
      ],
      "source": [
        "!git clone https://github.com/mandarjoshi90/coref.git"
      ]
    },
    {
      "cell_type": "code",
      "source": [
        "!cd /content/coref"
      ],
      "metadata": {
        "colab": {
          "base_uri": "https://localhost:8080/"
        },
        "id": "beS3gVpESK2S",
        "outputId": "30d5889d-0228-4e10-e6ce-886921c7a0ac"
      },
      "execution_count": 8,
      "outputs": [
        {
          "output_type": "stream",
          "name": "stdout",
          "text": [
            "/content/coref\n"
          ]
        }
      ]
    },
    {
      "cell_type": "code",
      "source": [
        "!ls"
      ],
      "metadata": {
        "colab": {
          "base_uri": "https://localhost:8080/"
        },
        "id": "y6ZxG2_zSXds",
        "outputId": "0e9e667b-2a86-480d-ab79-0a0db1d587ee"
      },
      "execution_count": 9,
      "outputs": [
        {
          "output_type": "stream",
          "name": "stdout",
          "text": [
            "basic.conf               \u001b[0m\u001b[01;32mevaluate.py\u001b[0m*          \u001b[01;32mpredict.py\u001b[0m*\n",
            "\u001b[01;34mbert\u001b[0m/                    experiments.conf      pytorch_to_tf.py\n",
            "\u001b[01;34mcased_config_vocab\u001b[0m/      gap_to_jsonlines.py   README.md\n",
            "\u001b[01;34mconll-2012\u001b[0m/              independent.py        requirements.txt\n",
            "\u001b[01;32mconll.py\u001b[0m*                LICENSE               \u001b[01;32msetup_all.sh\u001b[0m*\n",
            "coref_kernels.cc         metrics.py            \u001b[01;32msetup_training.sh\u001b[0m*\n",
            "coref_ops.py             \u001b[01;32mminimize.py\u001b[0m*          to_gap_tsv.py\n",
            "current_models.py        optimization.py       \u001b[01;32mtrain.py\u001b[0m*\n",
            "\u001b[01;34mdebug\u001b[0m/                   \u001b[01;32moverlap_minimize.py\u001b[0m*  util.py\n",
            "\u001b[01;32mdownload_pretrained.sh\u001b[0m*  overlap.py            \u001b[01;34mviz\u001b[0m/\n"
          ]
        }
      ]
    },
    {
      "cell_type": "code",
      "source": [
        "!pip3 install -r requirements.txt\n",
        "!./setup_all.sh"
      ],
      "metadata": {
        "colab": {
          "base_uri": "https://localhost:8080/"
        },
        "id": "qI51WbiQSbe0",
        "outputId": "f9a35514-a8dd-4a4a-c330-0365f68f16a4"
      },
      "execution_count": 12,
      "outputs": [
        {
          "output_type": "stream",
          "name": "stdout",
          "text": [
            "Collecting absl-py==0.7.1\n",
            "  Downloading absl-py-0.7.1.tar.gz (99 kB)\n",
            "\u001b[?25l\r\u001b[K     |███▎                            | 10 kB 25.4 MB/s eta 0:00:01\r\u001b[K     |██████▋                         | 20 kB 31.0 MB/s eta 0:00:01\r\u001b[K     |█████████▉                      | 30 kB 35.2 MB/s eta 0:00:01\r\u001b[K     |█████████████▏                  | 40 kB 26.9 MB/s eta 0:00:01\r\u001b[K     |████████████████▍               | 51 kB 19.1 MB/s eta 0:00:01\r\u001b[K     |███████████████████▊            | 61 kB 21.3 MB/s eta 0:00:01\r\u001b[K     |███████████████████████         | 71 kB 22.2 MB/s eta 0:00:01\r\u001b[K     |██████████████████████████▎     | 81 kB 23.3 MB/s eta 0:00:01\r\u001b[K     |█████████████████████████████▌  | 92 kB 25.3 MB/s eta 0:00:01\r\u001b[K     |████████████████████████████████| 99 kB 8.4 MB/s \n",
            "\u001b[?25hCollecting astor==0.8.0\n",
            "  Downloading astor-0.8.0-py2.py3-none-any.whl (27 kB)\n",
            "Collecting awscli==1.14.58\n",
            "  Downloading awscli-1.14.58-py2.py3-none-any.whl (1.2 MB)\n",
            "\u001b[K     |████████████████████████████████| 1.2 MB 48.4 MB/s \n",
            "\u001b[?25hCollecting certifi==2019.6.16\n",
            "  Downloading certifi-2019.6.16-py2.py3-none-any.whl (157 kB)\n",
            "\u001b[K     |████████████████████████████████| 157 kB 58.0 MB/s \n",
            "\u001b[?25hCollecting cort==0.2.4.5\n",
            "  Downloading cort-0.2.4.5-py2.py3-none-any.whl (6.6 MB)\n",
            "\u001b[K     |████████████████████████████████| 6.6 MB 20.8 MB/s \n",
            "\u001b[?25hCollecting docutils==0.14\n",
            "  Downloading docutils-0.14-py3-none-any.whl (543 kB)\n",
            "\u001b[K     |████████████████████████████████| 543 kB 52.2 MB/s \n",
            "\u001b[?25hRequirement already satisfied: future==0.16.0 in /usr/local/lib/python3.7/dist-packages (from -r requirements.txt (line 7)) (0.16.0)\n",
            "Collecting gast==0.2.2\n",
            "  Downloading gast-0.2.2.tar.gz (10 kB)\n",
            "Collecting google-pasta==0.1.7\n",
            "  Downloading google_pasta-0.1.7-py3-none-any.whl (52 kB)\n",
            "\u001b[K     |████████████████████████████████| 52 kB 809 kB/s \n",
            "\u001b[?25hCollecting grpcio==1.23.0\n",
            "  Downloading grpcio-1.23.0-cp37-cp37m-manylinux1_x86_64.whl (2.2 MB)\n",
            "\u001b[K     |████████████████████████████████| 2.2 MB 48.3 MB/s \n",
            "\u001b[?25hCollecting h5py==2.7.1\n",
            "  Downloading h5py-2.7.1.tar.gz (264 kB)\n",
            "\u001b[K     |████████████████████████████████| 264 kB 52.7 MB/s \n",
            "\u001b[?25hCollecting html5lib==0.9999999\n",
            "  Downloading html5lib-0.9999999.tar.gz (889 kB)\n",
            "\u001b[K     |████████████████████████████████| 889 kB 54.3 MB/s \n",
            "\u001b[?25hCollecting Jinja2==2.10\n",
            "  Downloading Jinja2-2.10-py2.py3-none-any.whl (126 kB)\n",
            "\u001b[K     |████████████████████████████████| 126 kB 71.8 MB/s \n",
            "\u001b[?25hCollecting JPype1==0.6.2\n",
            "  Downloading JPype1-0.6.2.tar.gz (147 kB)\n",
            "\u001b[K     |████████████████████████████████| 147 kB 53.9 MB/s \n",
            "\u001b[?25hCollecting Keras-Applications==1.0.8\n",
            "  Downloading Keras_Applications-1.0.8-py3-none-any.whl (50 kB)\n",
            "\u001b[K     |████████████████████████████████| 50 kB 7.5 MB/s \n",
            "\u001b[?25hCollecting Keras-Preprocessing==1.1.0\n",
            "  Downloading Keras_Preprocessing-1.1.0-py2.py3-none-any.whl (41 kB)\n",
            "\u001b[K     |████████████████████████████████| 41 kB 824 kB/s \n",
            "\u001b[?25hCollecting Markdown==3.1.1\n",
            "  Downloading Markdown-3.1.1-py2.py3-none-any.whl (87 kB)\n",
            "\u001b[K     |████████████████████████████████| 87 kB 7.0 MB/s \n",
            "\u001b[?25hCollecting MarkupSafe==1.0\n",
            "  Downloading MarkupSafe-1.0.tar.gz (14 kB)\n",
            "\u001b[33mWARNING: Discarding https://files.pythonhosted.org/packages/4d/de/32d741db316d8fdb7680822dd37001ef7a448255de9699ab4bfcbdf4172b/MarkupSafe-1.0.tar.gz#sha256=a6be69091dac236ea9c6bc7d012beab42010fa914c459791d627dad4910eb665 (from https://pypi.org/simple/markupsafe/). Command errored out with exit status 1: python setup.py egg_info Check the logs for full command output.\u001b[0m\n",
            "\u001b[31mERROR: Could not find a version that satisfies the requirement MarkupSafe==1.0 (from versions: 0.9, 0.9.1, 0.9.2, 0.9.3, 0.11, 0.12, 0.13, 0.14, 0.15, 0.16, 0.17, 0.18, 0.19, 0.20, 0.21, 0.22, 0.23, 1.0, 1.1.0, 1.1.1, 2.0.0a1, 2.0.0rc1, 2.0.0rc2, 2.0.0, 2.0.1, 2.1.0)\u001b[0m\n",
            "\u001b[31mERROR: No matching distribution found for MarkupSafe==1.0\u001b[0m\n",
            "In file included from \u001b[01m\u001b[K/usr/local/lib/python3.7/dist-packages/tensorflow/include/tensorflow/core/framework/tensor.h:25:0\u001b[m\u001b[K,\n",
            "                 from \u001b[01m\u001b[K/usr/local/lib/python3.7/dist-packages/tensorflow/include/tensorflow/core/framework/attr_value_util.h:24\u001b[m\u001b[K,\n",
            "                 from \u001b[01m\u001b[K/usr/local/lib/python3.7/dist-packages/tensorflow/include/tensorflow/core/framework/node_def_util.h:23\u001b[m\u001b[K,\n",
            "                 from \u001b[01m\u001b[K/usr/local/lib/python3.7/dist-packages/tensorflow/include/tensorflow/core/framework/full_type_util.h:24\u001b[m\u001b[K,\n",
            "                 from \u001b[01m\u001b[K/usr/local/lib/python3.7/dist-packages/tensorflow/include/tensorflow/core/framework/op.h:25\u001b[m\u001b[K,\n",
            "                 from \u001b[01m\u001b[Kcoref_kernels.cc:3\u001b[m\u001b[K:\n",
            "\u001b[01m\u001b[K/usr/local/lib/python3.7/dist-packages/tensorflow/include/tensorflow/core/framework/tensor_types.h:\u001b[m\u001b[K In member function ‘\u001b[01m\u001b[Kvoid tensorflow::internal::MaybeWith32BitIndexingImpl<Eigen::GpuDevice>::operator()(Func, Args&& ...) const\u001b[m\u001b[K’:\n",
            "\u001b[01m\u001b[K/usr/local/lib/python3.7/dist-packages/tensorflow/include/tensorflow/core/framework/tensor_types.h:176:25:\u001b[m\u001b[K \u001b[01;31m\u001b[Kerror: \u001b[m\u001b[Kuse of ‘\u001b[01m\u001b[Kauto\u001b[m\u001b[K’ in lambda parameter declaration only available with -std=c++14 or -std=gnu++14\n",
            "     auto all = [](const \u001b[01;31m\u001b[Kauto\u001b[m\u001b[K&... bool_vals) {\n",
            "                         \u001b[01;31m\u001b[K^~~~\u001b[m\u001b[K\n",
            "\u001b[01m\u001b[K/usr/local/lib/python3.7/dist-packages/tensorflow/include/tensorflow/core/framework/tensor_types.h:176:34:\u001b[m\u001b[K \u001b[01;31m\u001b[Kerror: \u001b[m\u001b[Kexpansion pattern ‘\u001b[01m\u001b[Kconst int&\u001b[m\u001b[K’ contains no argument packs\n",
            "     auto all = [](const auto&... \u001b[01;31m\u001b[Kbool_vals\u001b[m\u001b[K) {\n",
            "                                  \u001b[01;31m\u001b[K^~~~~~~~~\u001b[m\u001b[K\n",
            "\u001b[01m\u001b[K/usr/local/lib/python3.7/dist-packages/tensorflow/include/tensorflow/core/framework/tensor_types.h:\u001b[m\u001b[K In lambda function:\n",
            "\u001b[01m\u001b[K/usr/local/lib/python3.7/dist-packages/tensorflow/include/tensorflow/core/framework/tensor_types.h:177:22:\u001b[m\u001b[K \u001b[01;31m\u001b[Kerror: \u001b[m\u001b[K‘\u001b[01m\u001b[Kbool_vals\u001b[m\u001b[K’ was not declared in this scope\n",
            "       for (bool b : {\u001b[01;31m\u001b[Kbool_vals\u001b[m\u001b[K...}) {\n",
            "                      \u001b[01;31m\u001b[K^~~~~~~~~\u001b[m\u001b[K\n"
          ]
        }
      ]
    }
  ]
}